{
  "nbformat": 4,
  "nbformat_minor": 0,
  "metadata": {
    "colab": {
      "provenance": [],
      "gpuType": "A100",
      "authorship_tag": "ABX9TyPYcagMgeQN02zLkpNURZri",
      "include_colab_link": true
    },
    "kernelspec": {
      "name": "python3",
      "display_name": "Python 3"
    },
    "language_info": {
      "name": "python"
    },
    "accelerator": "GPU",
    "gpuClass": "standard"
  },
  "cells": [
    {
      "cell_type": "markdown",
      "metadata": {
        "id": "view-in-github",
        "colab_type": "text"
      },
      "source": [
        "<a href=\"https://colab.research.google.com/github/KylixEza/BeU-DL/blob/master/BeU_Notebook_Mini.ipynb\" target=\"_parent\"><img src=\"https://colab.research.google.com/assets/colab-badge.svg\" alt=\"Open In Colab\"/></a>"
      ]
    },
    {
      "cell_type": "code",
      "execution_count": 2,
      "metadata": {
        "id": "SrGchmAdIGDN"
      },
      "outputs": [],
      "source": [
        "import os\n",
        "import datetime\n",
        "import numpy as np\n",
        "import pandas as pd\n",
        "import tensorflow as tf\n",
        "import matplotlib.pyplot as plt\n",
        "import matplotlib.image as mpimg\n",
        "\n",
        "from keras.preprocessing.image import ImageDataGenerator\n",
        "from keras.utils import load_img\n",
        "from keras.models import Sequential\n",
        "from keras.layers import Conv2D\n",
        "from keras.layers import MaxPooling2D\n",
        "from keras.layers import Dropout\n",
        "from keras.layers import Dense\n",
        "from keras.layers import Flatten\n",
        "from keras.layers import InputLayer\n",
        "from keras.callbacks import Callback\n",
        "from keras.callbacks import EarlyStopping\n",
        "from keras.regularizers import L1\n",
        "from keras.regularizers import L2\n",
        "from keras.regularizers import L1L2\n",
        "import tensorflow_hub as hub"
      ]
    },
    {
      "cell_type": "code",
      "source": [
        "pip install split-folders"
      ],
      "metadata": {
        "colab": {
          "base_uri": "https://localhost:8080/"
        },
        "id": "Ws1_XR7gKdwJ",
        "outputId": "3033e8ff-bfc1-4d8f-e6c4-25b7a3e7de75"
      },
      "execution_count": 3,
      "outputs": [
        {
          "output_type": "stream",
          "name": "stdout",
          "text": [
            "Looking in indexes: https://pypi.org/simple, https://us-python.pkg.dev/colab-wheels/public/simple/\n",
            "Collecting split-folders\n",
            "  Downloading split_folders-0.5.1-py3-none-any.whl (8.4 kB)\n",
            "Installing collected packages: split-folders\n",
            "Successfully installed split-folders-0.5.1\n"
          ]
        }
      ]
    },
    {
      "cell_type": "code",
      "source": [
        "from google.colab import drive\n",
        "drive.mount('/content/gdrive', force_remount=True)"
      ],
      "metadata": {
        "colab": {
          "base_uri": "https://localhost:8080/"
        },
        "id": "ZiuK68neKe6W",
        "outputId": "dc444907-dd07-44c9-ffcd-8c9702266be6"
      },
      "execution_count": 4,
      "outputs": [
        {
          "output_type": "stream",
          "name": "stdout",
          "text": [
            "Mounted at /content/gdrive\n"
          ]
        }
      ]
    },
    {
      "cell_type": "code",
      "source": [
        "log_dir = \"logs/fit/\" + datetime.datetime.now().strftime(\"%Y%m%d-%H%M%S\")\n",
        "!rm -rf ./logs/\n",
        "tf.summary.create_file_writer(\"./logs/\")"
      ],
      "metadata": {
        "colab": {
          "base_uri": "https://localhost:8080/"
        },
        "id": "IC2mfBYEKjfr",
        "outputId": "f8e0f109-038c-44c2-c6d5-aac6ada2f021"
      },
      "execution_count": 5,
      "outputs": [
        {
          "output_type": "execute_result",
          "data": {
            "text/plain": [
              "<tensorflow.python.ops.summary_ops_v2._ResourceSummaryWriter at 0x7f0f7dfabeb0>"
            ]
          },
          "metadata": {},
          "execution_count": 5
        }
      ]
    },
    {
      "cell_type": "markdown",
      "source": [
        "# Preprocessing"
      ],
      "metadata": {
        "id": "3TTDJCWBKqQ2"
      }
    },
    {
      "cell_type": "code",
      "source": [
        "dataset_dir = '/content/gdrive/MyDrive/datasets/Indonesian Food Mini/'"
      ],
      "metadata": {
        "id": "TTmCJFdfKsZH"
      },
      "execution_count": 6,
      "outputs": []
    },
    {
      "cell_type": "code",
      "source": [
        "import os\n",
        "from os import listdir\n",
        "from PIL import Image\n",
        "import PIL\n",
        "  \n",
        "\n",
        "directories = [d for d in os.listdir(dataset_dir) if os.path.isdir(os.path.join(dataset_dir, d))]\n",
        "\n",
        "for directory in directories:\n",
        "  for filename in listdir(dataset_dir+directory+'/'):\n",
        "    try:\n",
        "      img = Image.open(dataset_dir+directory+'/'+filename)\n",
        "    except PIL.UnidentifiedImageError as e:\n",
        "      print(f\"Error: {filename} is not a valid image file.\")"
      ],
      "metadata": {
        "id": "bKQOoYMMKzaW"
      },
      "execution_count": 9,
      "outputs": []
    },
    {
      "cell_type": "code",
      "source": [
        "import splitfolders\n",
        "splitfolders.ratio(dataset_dir, output=\"datasets\", seed=123, ratio=(0.7, 0.15, 0.15)) "
      ],
      "metadata": {
        "colab": {
          "base_uri": "https://localhost:8080/"
        },
        "id": "eZh5S1U3K030",
        "outputId": "6a0b689d-50d7-4100-d93e-b2422d391bbe"
      },
      "execution_count": 10,
      "outputs": [
        {
          "output_type": "stream",
          "name": "stderr",
          "text": [
            "Copying files: 1296 files [00:12, 105.36 files/s]\n"
          ]
        }
      ]
    },
    {
      "cell_type": "code",
      "source": [
        "train_dir = 'datasets/train/'\n",
        "val_dir = 'datasets/val'\n",
        "test_dir = 'datasets/test'"
      ],
      "metadata": {
        "id": "9i_zAaZNLEGl"
      },
      "execution_count": 11,
      "outputs": []
    },
    {
      "cell_type": "code",
      "source": [
        "train_datagen = ImageDataGenerator(\n",
        "    rescale=1./255,\n",
        "    rotation_range=20,\n",
        "    vertical_flip=True,\n",
        "    horizontal_flip=True\n",
        ")"
      ],
      "metadata": {
        "id": "KCyZWAQJLFnM"
      },
      "execution_count": 72,
      "outputs": []
    },
    {
      "cell_type": "code",
      "source": [
        "test_datagen = ImageDataGenerator(\n",
        "    rescale=1./255\n",
        ")"
      ],
      "metadata": {
        "id": "JwqgvLy2LLvr"
      },
      "execution_count": 73,
      "outputs": []
    },
    {
      "cell_type": "code",
      "source": [
        "train_generator = train_datagen.flow_from_directory(\n",
        "    train_dir,\n",
        "    target_size=(224, 224),\n",
        "    batch_size=32,\n",
        "    class_mode='categorical',\n",
        ")"
      ],
      "metadata": {
        "colab": {
          "base_uri": "https://localhost:8080/"
        },
        "id": "Ao5PhI6dLSMj",
        "outputId": "e7ca392d-7ebc-4a52-bcad-2953a4cfb13c"
      },
      "execution_count": 74,
      "outputs": [
        {
          "output_type": "stream",
          "name": "stdout",
          "text": [
            "Found 906 images belonging to 5 classes.\n"
          ]
        }
      ]
    },
    {
      "cell_type": "code",
      "source": [
        "validation_generator = test_datagen.flow_from_directory(\n",
        "    val_dir,\n",
        "    target_size=(224, 224),\n",
        "    batch_size=16,\n",
        "    class_mode='categorical',\n",
        ")"
      ],
      "metadata": {
        "colab": {
          "base_uri": "https://localhost:8080/"
        },
        "id": "iF2f0DyeLVLL",
        "outputId": "aae3e997-7fa4-48df-b76e-33cc4d678ef1"
      },
      "execution_count": 75,
      "outputs": [
        {
          "output_type": "stream",
          "name": "stdout",
          "text": [
            "Found 192 images belonging to 5 classes.\n"
          ]
        }
      ]
    },
    {
      "cell_type": "code",
      "source": [
        "test_generator = test_datagen.flow_from_directory(\n",
        "    test_dir,\n",
        "    target_size=(224, 224),\n",
        "    batch_size=16,\n",
        "    class_mode='categorical',\n",
        ")"
      ],
      "metadata": {
        "colab": {
          "base_uri": "https://localhost:8080/"
        },
        "id": "8ip_uveRLYXL",
        "outputId": "1b5ada5d-66bc-455c-a69e-ca2db825e427"
      },
      "execution_count": 76,
      "outputs": [
        {
          "output_type": "stream",
          "name": "stdout",
          "text": [
            "Found 198 images belonging to 5 classes.\n"
          ]
        }
      ]
    },
    {
      "cell_type": "code",
      "source": [
        "train_generator.class_indices"
      ],
      "metadata": {
        "colab": {
          "base_uri": "https://localhost:8080/"
        },
        "id": "KfAPbmf7Lb-9",
        "outputId": "fce94476-9878-4947-9880-f0e2a43c6d97"
      },
      "execution_count": 77,
      "outputs": [
        {
          "output_type": "execute_result",
          "data": {
            "text/plain": [
              "{'bakso': 0, 'bubur': 1, 'capcay': 2, 'nasi goreng': 3, 'telur balado': 4}"
            ]
          },
          "metadata": {},
          "execution_count": 77
        }
      ]
    },
    {
      "cell_type": "markdown",
      "source": [
        "# Modelling"
      ],
      "metadata": {
        "id": "3VrKYZ6JQUC2"
      }
    },
    {
      "cell_type": "code",
      "source": [
        "size = len(train_generator.class_indices)\n",
        "model = Sequential([\n",
        "    InputLayer(input_shape=(224, 224) + (3,)),\n",
        "    hub.KerasLayer(\"https://tfhub.dev/google/imagenet/mobilenet_v3_large_100_224/classification/5\", trainable=True),\n",
        "    Dense(size, activation='softmax', activity_regularizer=L1L2(l1=1e-5, l2=1e-5))\n",
        "])"
      ],
      "metadata": {
        "id": "xx3KG_j4Lcxb"
      },
      "execution_count": 78,
      "outputs": []
    },
    {
      "cell_type": "code",
      "source": [
        "model.summary()"
      ],
      "metadata": {
        "colab": {
          "base_uri": "https://localhost:8080/"
        },
        "id": "38FspkNoLuFH",
        "outputId": "b1453f92-1e11-41d4-a8a3-525e121bca6b"
      },
      "execution_count": 79,
      "outputs": [
        {
          "output_type": "stream",
          "name": "stdout",
          "text": [
            "Model: \"sequential_5\"\n",
            "_________________________________________________________________\n",
            " Layer (type)                Output Shape              Param #   \n",
            "=================================================================\n",
            " keras_layer_5 (KerasLayer)  (None, 1001)              5508713   \n",
            "                                                                 \n",
            " dense_5 (Dense)             (None, 5)                 5010      \n",
            "                                                                 \n",
            "=================================================================\n",
            "Total params: 5,513,723\n",
            "Trainable params: 5,489,323\n",
            "Non-trainable params: 24,400\n",
            "_________________________________________________________________\n"
          ]
        }
      ]
    },
    {
      "cell_type": "code",
      "source": [
        "class AccuracyCallback(Callback):\n",
        "  def on_epoch_end(self, epoch, logs=None):\n",
        "       if(logs.get('accuracy') > 0.98 and logs.get('val_accuracy') > 0.97):      \n",
        "          self.model.stop_training = True\n",
        "\n",
        "accuracy_callback = AccuracyCallback()"
      ],
      "metadata": {
        "id": "8qP9jhUeLvYM"
      },
      "execution_count": 80,
      "outputs": []
    },
    {
      "cell_type": "code",
      "source": [
        "model.compile(\n",
        "    optimizer = tf.optimizers.Adam(learning_rate=1e-4),\n",
        "    loss = 'categorical_crossentropy',\n",
        "    metrics=['accuracy']\n",
        ")"
      ],
      "metadata": {
        "id": "52xwxWeFL2tq"
      },
      "execution_count": 81,
      "outputs": []
    },
    {
      "cell_type": "code",
      "source": [
        "history = model.fit(\n",
        "    train_generator,\n",
        "    validation_data=validation_generator,\n",
        "    epochs=30,\n",
        "    verbose=2,\n",
        "    callbacks=[accuracy_callback]\n",
        ")"
      ],
      "metadata": {
        "colab": {
          "base_uri": "https://localhost:8080/"
        },
        "id": "TWdLtffHL5vX",
        "outputId": "651cd5b0-892d-45e3-a5d4-3f86a94230fd"
      },
      "execution_count": 82,
      "outputs": [
        {
          "output_type": "stream",
          "name": "stdout",
          "text": [
            "Epoch 1/30\n",
            "29/29 - 114s - loss: 1.2819 - accuracy: 0.6203 - val_loss: 1.2300 - val_accuracy: 0.7135 - 114s/epoch - 4s/step\n",
            "Epoch 2/30\n",
            "29/29 - 25s - loss: 0.5643 - accuracy: 0.9128 - val_loss: 0.9074 - val_accuracy: 0.8438 - 25s/epoch - 853ms/step\n",
            "Epoch 3/30\n",
            "29/29 - 22s - loss: 0.4395 - accuracy: 0.9625 - val_loss: 0.7998 - val_accuracy: 0.8490 - 22s/epoch - 764ms/step\n",
            "Epoch 4/30\n",
            "29/29 - 24s - loss: 0.4067 - accuracy: 0.9669 - val_loss: 0.5681 - val_accuracy: 0.9271 - 24s/epoch - 818ms/step\n",
            "Epoch 5/30\n",
            "29/29 - 24s - loss: 0.3703 - accuracy: 0.9812 - val_loss: 0.5155 - val_accuracy: 0.9427 - 24s/epoch - 828ms/step\n",
            "Epoch 6/30\n",
            "29/29 - 24s - loss: 0.3356 - accuracy: 0.9934 - val_loss: 0.4844 - val_accuracy: 0.9531 - 24s/epoch - 827ms/step\n",
            "Epoch 7/30\n",
            "29/29 - 24s - loss: 0.3310 - accuracy: 0.9923 - val_loss: 0.4947 - val_accuracy: 0.9531 - 24s/epoch - 816ms/step\n",
            "Epoch 8/30\n",
            "29/29 - 22s - loss: 0.3242 - accuracy: 0.9945 - val_loss: 0.4595 - val_accuracy: 0.9531 - 22s/epoch - 770ms/step\n",
            "Epoch 9/30\n",
            "29/29 - 24s - loss: 0.3177 - accuracy: 0.9967 - val_loss: 0.4415 - val_accuracy: 0.9688 - 24s/epoch - 818ms/step\n",
            "Epoch 10/30\n",
            "29/29 - 23s - loss: 0.3198 - accuracy: 0.9967 - val_loss: 0.4320 - val_accuracy: 0.9740 - 23s/epoch - 809ms/step\n"
          ]
        }
      ]
    },
    {
      "cell_type": "markdown",
      "source": [
        "#Plot"
      ],
      "metadata": {
        "id": "RZ7hjARoWiTr"
      }
    },
    {
      "cell_type": "code",
      "source": [
        "plt.plot(history.history['accuracy'])\n",
        "plt.plot(history.history['val_accuracy'])\n",
        "plt.title('Akurasi Model')\n",
        "plt.ylabel('accuracy')\n",
        "plt.xlabel('epoch')\n",
        "plt.legend(['train', 'test'], loc='upper left')\n",
        "plt.show()"
      ],
      "metadata": {
        "colab": {
          "base_uri": "https://localhost:8080/",
          "height": 472
        },
        "id": "SW_rwXMpL-7x",
        "outputId": "258704db-8f34-4f7a-d232-367183a840b8"
      },
      "execution_count": 83,
      "outputs": [
        {
          "output_type": "display_data",
          "data": {
            "text/plain": [
              "<Figure size 640x480 with 1 Axes>"
            ],
            "image/png": "[encoded data removed]"
          },
          "metadata": {}
        }
      ]
    },
    {
      "cell_type": "code",
      "source": [
        "plt.plot(history.history['loss'])\n",
        "plt.plot(history.history['val_loss'])\n",
        "plt.title('Loss Model')\n",
        "plt.ylabel('loss')\n",
        "plt.xlabel('epoch')\n",
        "plt.legend(['train', 'test'], loc='upper left')\n",
        "plt.show()"
      ],
      "metadata": {
        "colab": {
          "base_uri": "https://localhost:8080/",
          "height": 472
        },
        "id": "iepGiwcKMAac",
        "outputId": "4059373b-c7af-41d2-922a-d823aa8d527c"
      },
      "execution_count": 84,
      "outputs": [
        {
          "output_type": "display_data",
          "data": {
            "text/plain": [
              "<Figure size 640x480 with 1 Axes>"
            ],
            "image/png": "[encoded data removed]"
          },
          "metadata": {}
        }
      ]
    },
    {
      "cell_type": "markdown",
      "source": [
        "#Export"
      ],
      "metadata": {
        "id": "JDRGKX2TYfAn"
      }
    },
    {
      "cell_type": "code",
      "source": [
        "#for tflite\n",
        "import pathlib\n",
        "export_dir = 'saved_model/'\n",
        "tf.saved_model.save(model, export_dir)\n",
        "\n",
        "converter = tf.lite.TFLiteConverter.from_saved_model(export_dir)\n",
        "tflite_model = converter.convert()\n",
        " \n",
        "tflite_model_file = pathlib.Path('beu_mini.tflite')\n",
        "tflite_model_file.write_bytes(tflite_model)"
      ],
      "metadata": {
        "colab": {
          "base_uri": "https://localhost:8080/"
        },
        "id": "05iCvuJUNAz-",
        "outputId": "1e68580f-0ad2-468e-df5d-379a9e44f1d1"
      },
      "execution_count": 85,
      "outputs": [
        {
          "output_type": "execute_result",
          "data": {
            "text/plain": [
              "22008468"
            ]
          },
          "metadata": {},
          "execution_count": 85
        }
      ]
    },
    {
      "cell_type": "code",
      "source": [
        "model.save('beu_mini_model', save_format='h5')"
      ],
      "metadata": {
        "id": "zZIFyW2vb675"
      },
      "execution_count": 99,
      "outputs": []
    },
    {
      "cell_type": "markdown",
      "source": [
        "#Quantization"
      ],
      "metadata": {
        "id": "BdlTVTbCcbkG"
      }
    },
    {
      "cell_type": "code",
      "source": [
        "converter = tf.lite.TFLiteConverter.from_keras_model(model)\n",
        "converter.optimizations = [tf.lite.Optimize.DEFAULT]\n",
        "tflite_quant_model = converter.convert()\n",
        "with open('/content/beu_mini_quantized.tflite', 'wb') as f:\n",
        "  f.write(tflite_quant_model)"
      ],
      "metadata": {
        "id": "lju057FqcZQc"
      },
      "execution_count": 100,
      "outputs": []
    },
    {
      "cell_type": "markdown",
      "source": [
        "#Github"
      ],
      "metadata": {
        "id": "OHNxiSXqktjs"
      }
    },
    {
      "cell_type": "code",
      "source": [
        "%cd gdrive/MyDrive/Lomba/BeU"
      ],
      "metadata": {
        "id": "bdE5Gsx-ktFs"
      },
      "execution_count": null,
      "outputs": []
    },
    {
      "cell_type": "code",
      "source": [
        "!git init"
      ],
      "metadata": {
        "id": "Zw0eXp6QlKNv"
      },
      "execution_count": null,
      "outputs": []
    },
    {
      "cell_type": "code",
      "source": [
        "!git add BeU_Notebook_Mini.ipynb"
      ],
      "metadata": {
        "id": "IjSoWxuilN8-"
      },
      "execution_count": 139,
      "outputs": []
    },
    {
      "cell_type": "code",
      "source": [
        "!git config --global user.email \"kylixeza.dev@gmail.com\"\n",
        "!git config --global user.name \"KylixEza\""
      ],
      "metadata": {
        "id": "aljlkGX4luyN"
      },
      "execution_count": 148,
      "outputs": []
    },
    {
      "cell_type": "code",
      "source": [
        "!git commit -m \"add beu notebook for mini size model\""
      ],
      "metadata": {
        "id": "lHNWOH2jlNuY"
      },
      "execution_count": null,
      "outputs": []
    },
    {
      "cell_type": "code",
      "source": [
        "!git remote add origin https://github.com/KylixEza/BeU-DL.git"
      ],
      "metadata": {
        "id": "2E2zZzswl1MS"
      },
      "execution_count": null,
      "outputs": []
    },
    {
      "cell_type": "code",
      "source": [
        "!git push -u origin master"
      ],
      "metadata": {
        "id": "G272YJh2l2f4"
      },
      "execution_count": null,
      "outputs": []
    }
  ]
}